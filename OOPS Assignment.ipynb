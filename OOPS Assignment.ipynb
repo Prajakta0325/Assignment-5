{
 "cells": [
  {
   "cell_type": "markdown",
   "id": "7f10abc7",
   "metadata": {},
   "source": [
    "# Challenge 1: Square Numbers and Return Their Sum"
   ]
  },
  {
   "cell_type": "code",
   "execution_count": 9,
   "id": "56004fda",
   "metadata": {},
   "outputs": [
    {
     "name": "stdout",
     "output_type": "stream",
     "text": [
      "Square of x : 1\n",
      "Square of y : 9\n",
      "Square of z : 25\n",
      "****************************************************************************************************\n",
      "Sum of Square :  35\n"
     ]
    }
   ],
   "source": [
    "class Point:\n",
    "    def __init__(self,x,y,z):\n",
    "        self.x=x\n",
    "        self.y=y\n",
    "        self.z=z\n",
    "        \n",
    "    def sqSum(self):\n",
    "        print(\"Square of x :\",self.x**2)\n",
    "        print(\"Square of y :\",self.y**2)\n",
    "        print(\"Square of z :\",self.z**2)\n",
    "        print(\"*\"*100)\n",
    "        return ((self.x**2+self.y**2+self.z**2))\n",
    "    \n",
    "\n",
    "p=Point(1,3,5)\n",
    "print(\"Sum of Square : \",p.sqSum())"
   ]
  },
  {
   "cell_type": "code",
   "execution_count": null,
   "id": "05c845bc",
   "metadata": {},
   "outputs": [],
   "source": []
  },
  {
   "cell_type": "markdown",
   "id": "fc2bb12c",
   "metadata": {},
   "source": [
    "# Challenge 2: Implement a Calculator Class"
   ]
  },
  {
   "cell_type": "code",
   "execution_count": 2,
   "id": "466cb795",
   "metadata": {},
   "outputs": [
    {
     "name": "stdout",
     "output_type": "stream",
     "text": [
      "Enter First Number : 10\n",
      "Enter Second Number : 94\n",
      "****************************************************************************************************\n",
      "Addition :  104\n",
      "Substraction :  84\n",
      "Multiplication :  940\n",
      "Division :  9.4\n"
     ]
    }
   ],
   "source": [
    "class Calculator:\n",
    "    def __init__(self,num1,num2):\n",
    "        self.num1=num1\n",
    "        self.num2=num2\n",
    "        \n",
    "    def add(self):\n",
    "        sum=self.num1+self.num2\n",
    "        print(\"Addition : \",sum)\n",
    "        \n",
    "    def subract(self):\n",
    "        sub=self.num2-self.num1\n",
    "        print(\"Substraction : \",sub)\n",
    "        \n",
    "    def multiply(self):\n",
    "        mul=self.num1*self.num2\n",
    "        print(\"Multiplication : \",mul)\n",
    "        \n",
    "    def divide(self):\n",
    "        div=self.num2/self.num1\n",
    "        print(\"Division : \",div)\n",
    "        \n",
    "num1=int(input(\"Enter First Number : \"))\n",
    "num2=int(input(\"Enter Second Number : \"))\n",
    "print(\"*\"*100)\n",
    "\n",
    "C=Calculator(num1,num2)\n",
    "C.add()\n",
    "C.subract()\n",
    "C.multiply()\n",
    "C.divide()\n"
   ]
  },
  {
   "cell_type": "code",
   "execution_count": null,
   "id": "5b1abb4b",
   "metadata": {},
   "outputs": [],
   "source": []
  },
  {
   "cell_type": "markdown",
   "id": "fe8799b6",
   "metadata": {},
   "source": [
    "# Challenge 3: Implement the Complete Student Class"
   ]
  },
  {
   "cell_type": "code",
   "execution_count": 5,
   "id": "c3a21e63",
   "metadata": {},
   "outputs": [
    {
     "name": "stdout",
     "output_type": "stream",
     "text": [
      "Student Name :  Prajakta Dhumal\n",
      "Student Roll Number :  100\n"
     ]
    }
   ],
   "source": [
    "class Student:\n",
    "    def __init__(self,name=0,rollnumber=0):\n",
    "        self.__name=name\n",
    "        self.__rollnumber=rollnumber\n",
    "        \n",
    "    def setName(self,name):\n",
    "        self.__name=name\n",
    "    def getName(self):\n",
    "        return self.__name\n",
    "    def setRollNumber(self,rollnumber):\n",
    "        self.__rollnumber=rollnumber\n",
    "    def getRollNumber(self):\n",
    "        return self.__rollnumber\n",
    "        \n",
    "s=Student()\n",
    "s.setName(\"Prajakta Dhumal\")\n",
    "s.setRollNumber(100)\n",
    "print(\"Student Name : \",s.getName())\n",
    "print(\"Student Roll Number : \",s.getRollNumber())"
   ]
  },
  {
   "cell_type": "code",
   "execution_count": null,
   "id": "ccb05932",
   "metadata": {},
   "outputs": [],
   "source": []
  },
  {
   "cell_type": "markdown",
   "id": "7500d8f2",
   "metadata": {},
   "source": [
    "# Challenge 4: Implement a Banking Account"
   ]
  },
  {
   "cell_type": "code",
   "execution_count": 4,
   "id": "56fb2d77",
   "metadata": {},
   "outputs": [
    {
     "name": "stdout",
     "output_type": "stream",
     "text": [
      "Title :  Ashish\n",
      "Balance :  500\n",
      "Interest Rate :  5\n"
     ]
    }
   ],
   "source": [
    "class Account:\n",
    "    def __init__(self,title=None,balance=0):\n",
    "        self.title=title\n",
    "        self.balance=balance\n",
    "        \n",
    "class SavingsAccount(Account):\n",
    "    def __init__(self,title=None,balance=0,interestRate=0):\n",
    "        super().__init__(title,balance)\n",
    "        self.interestRate=interestRate\n",
    "        \n",
    "    def userdetails(self):\n",
    "        print(\"Title : \",self.title)\n",
    "        print(\"Balance : \",self.balance)\n",
    "        print(\"Interest Rate : \",self.interestRate)\n",
    "        \n",
    "s=SavingsAccount(\"Ashish\",500,5)\n",
    "s.userdetails()"
   ]
  },
  {
   "cell_type": "code",
   "execution_count": null,
   "id": "77b0e8df",
   "metadata": {},
   "outputs": [],
   "source": []
  },
  {
   "cell_type": "markdown",
   "id": "aca2e913",
   "metadata": {},
   "source": [
    "# Challenge 5: Handling a Bank Account"
   ]
  },
  {
   "cell_type": "code",
   "execution_count": 3,
   "id": "6f6b900c",
   "metadata": {},
   "outputs": [
    {
     "name": "stdout",
     "output_type": "stream",
     "text": [
      "Balance after deposit 2500\n",
      "Balance after withdrawl 2000\n",
      "****************************************************************************************************\n",
      "Available Balance :  2000\n",
      "Interest Amount :  100.0\n"
     ]
    }
   ],
   "source": [
    "class Account:\n",
    "    def __init__(self, title=None, balance=0):\n",
    "        self.title = title\n",
    "        self.balance = balance\n",
    "        \n",
    "    def deposit(self, amount):\n",
    "        self.amount=amount\n",
    "        self.balance=self.balance+amount\n",
    "        print(\"Balance after deposit\",self.balance)\n",
    "    \n",
    "    def withdrawal(self, amount):\n",
    "        self.amount=amount\n",
    "        self.balance=self.balance-amount\n",
    "        print(\"Balance after withdrawl\",self.balance)\n",
    "\n",
    "    def getBalance(self):\n",
    "        print(\"Available Balance : \",self.balance)\n",
    "        \n",
    "        \n",
    "class SavingsAccount(Account):\n",
    "    def __init__(self, title=None, balance=0, interestRate=0):\n",
    "            super().__init__(title, balance)\n",
    "            self.interestRate = interestRate\n",
    "    \n",
    "    def interestAmount(self):\n",
    "        self.interestAmount=(self.interestRate*self.balance)/100\n",
    "        print(\"Interest Amount : \",self.interestAmount)\n",
    "\n",
    "s=SavingsAccount(\"Ashish\",2000,5)\n",
    "s.deposit(500)\n",
    "s.withdrawal(500)\n",
    "print(\"*\"*100)\n",
    "s.getBalance()\n",
    "s.interestAmount()\n"
   ]
  },
  {
   "cell_type": "code",
   "execution_count": null,
   "id": "a2734368",
   "metadata": {},
   "outputs": [],
   "source": []
  }
 ],
 "metadata": {
  "kernelspec": {
   "display_name": "Python 3 (ipykernel)",
   "language": "python",
   "name": "python3"
  },
  "language_info": {
   "codemirror_mode": {
    "name": "ipython",
    "version": 3
   },
   "file_extension": ".py",
   "mimetype": "text/x-python",
   "name": "python",
   "nbconvert_exporter": "python",
   "pygments_lexer": "ipython3",
   "version": "3.9.13"
  }
 },
 "nbformat": 4,
 "nbformat_minor": 5
}
